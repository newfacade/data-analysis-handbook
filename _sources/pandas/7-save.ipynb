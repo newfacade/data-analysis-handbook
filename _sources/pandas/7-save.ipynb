{
 "cells": [
  {
   "cell_type": "markdown",
   "metadata": {},
   "source": [
    "# 保存与加载"
   ]
  },
  {
   "cell_type": "code",
   "execution_count": 1,
   "metadata": {},
   "outputs": [],
   "source": [
    "import pandas as pd\n",
    "import numpy as np"
   ]
  },
  {
   "cell_type": "markdown",
   "metadata": {},
   "source": [
    "## 与dict转换"
   ]
  },
  {
   "cell_type": "code",
   "execution_count": 2,
   "metadata": {},
   "outputs": [
    {
     "data": {
      "text/plain": [
       "array([[ 1, 29, 95, 40, 30, 13],\n",
       "       [58, 43, 26, 78, 70, 61],\n",
       "       [41, 18, 17, 57, 45, 29],\n",
       "       [14, 55, 36, 82, 75, 43],\n",
       "       [25, 40, 49,  5, 49, 57],\n",
       "       [48, 61, 59,  1, 45, 88],\n",
       "       [73, 53, 87, 33, 46, 37],\n",
       "       [12, 12, 23, 82, 94,  8]])"
      ]
     },
     "execution_count": 2,
     "metadata": {},
     "output_type": "execute_result"
    }
   ],
   "source": [
    "\"\"\"\n",
    "使用指定data,index,columns的方式创建dataframe\n",
    "下面使用了ord和chr来遍历字母表\n",
    "\"\"\"\n",
    "index = [chr(i) for i in range(ord('a'), ord('a') + 8)]\n",
    "columns = ['duration', 'playtime', 'up', 'favorite', 'comment', 'share']\n",
    "df = pd.DataFrame(np.random.randint(1, 100, (len(index), len(columns))), index=index, columns=columns)\n",
    "df.values"
   ]
  },
  {
   "cell_type": "code",
   "execution_count": 3,
   "metadata": {},
   "outputs": [
    {
     "data": {
      "text/plain": [
       "{'a': {'duration': 1,\n",
       "  'playtime': 29,\n",
       "  'up': 95,\n",
       "  'favorite': 40,\n",
       "  'comment': 30,\n",
       "  'share': 13},\n",
       " 'b': {'duration': 58,\n",
       "  'playtime': 43,\n",
       "  'up': 26,\n",
       "  'favorite': 78,\n",
       "  'comment': 70,\n",
       "  'share': 61},\n",
       " 'c': {'duration': 41,\n",
       "  'playtime': 18,\n",
       "  'up': 17,\n",
       "  'favorite': 57,\n",
       "  'comment': 45,\n",
       "  'share': 29},\n",
       " 'd': {'duration': 14,\n",
       "  'playtime': 55,\n",
       "  'up': 36,\n",
       "  'favorite': 82,\n",
       "  'comment': 75,\n",
       "  'share': 43},\n",
       " 'e': {'duration': 25,\n",
       "  'playtime': 40,\n",
       "  'up': 49,\n",
       "  'favorite': 5,\n",
       "  'comment': 49,\n",
       "  'share': 57},\n",
       " 'f': {'duration': 48,\n",
       "  'playtime': 61,\n",
       "  'up': 59,\n",
       "  'favorite': 1,\n",
       "  'comment': 45,\n",
       "  'share': 88},\n",
       " 'g': {'duration': 73,\n",
       "  'playtime': 53,\n",
       "  'up': 87,\n",
       "  'favorite': 33,\n",
       "  'comment': 46,\n",
       "  'share': 37},\n",
       " 'h': {'duration': 12,\n",
       "  'playtime': 12,\n",
       "  'up': 23,\n",
       "  'favorite': 82,\n",
       "  'comment': 94,\n",
       "  'share': 8}}"
      ]
     },
     "execution_count": 3,
     "metadata": {},
     "output_type": "execute_result"
    }
   ],
   "source": [
    "# df -> dict\n",
    "data_dict = df.to_dict(orient='index')\n",
    "data_dict"
   ]
  },
  {
   "cell_type": "code",
   "execution_count": 4,
   "metadata": {},
   "outputs": [
    {
     "data": {
      "text/html": [
       "<div>\n",
       "<style scoped>\n",
       "    .dataframe tbody tr th:only-of-type {\n",
       "        vertical-align: middle;\n",
       "    }\n",
       "\n",
       "    .dataframe tbody tr th {\n",
       "        vertical-align: top;\n",
       "    }\n",
       "\n",
       "    .dataframe thead th {\n",
       "        text-align: right;\n",
       "    }\n",
       "</style>\n",
       "<table border=\"1\" class=\"dataframe\">\n",
       "  <thead>\n",
       "    <tr style=\"text-align: right;\">\n",
       "      <th></th>\n",
       "      <th>duration</th>\n",
       "      <th>playtime</th>\n",
       "      <th>up</th>\n",
       "      <th>favorite</th>\n",
       "      <th>comment</th>\n",
       "      <th>share</th>\n",
       "    </tr>\n",
       "  </thead>\n",
       "  <tbody>\n",
       "    <tr>\n",
       "      <th>a</th>\n",
       "      <td>1</td>\n",
       "      <td>29</td>\n",
       "      <td>95</td>\n",
       "      <td>40</td>\n",
       "      <td>30</td>\n",
       "      <td>13</td>\n",
       "    </tr>\n",
       "    <tr>\n",
       "      <th>b</th>\n",
       "      <td>58</td>\n",
       "      <td>43</td>\n",
       "      <td>26</td>\n",
       "      <td>78</td>\n",
       "      <td>70</td>\n",
       "      <td>61</td>\n",
       "    </tr>\n",
       "    <tr>\n",
       "      <th>c</th>\n",
       "      <td>41</td>\n",
       "      <td>18</td>\n",
       "      <td>17</td>\n",
       "      <td>57</td>\n",
       "      <td>45</td>\n",
       "      <td>29</td>\n",
       "    </tr>\n",
       "    <tr>\n",
       "      <th>d</th>\n",
       "      <td>14</td>\n",
       "      <td>55</td>\n",
       "      <td>36</td>\n",
       "      <td>82</td>\n",
       "      <td>75</td>\n",
       "      <td>43</td>\n",
       "    </tr>\n",
       "    <tr>\n",
       "      <th>e</th>\n",
       "      <td>25</td>\n",
       "      <td>40</td>\n",
       "      <td>49</td>\n",
       "      <td>5</td>\n",
       "      <td>49</td>\n",
       "      <td>57</td>\n",
       "    </tr>\n",
       "    <tr>\n",
       "      <th>f</th>\n",
       "      <td>48</td>\n",
       "      <td>61</td>\n",
       "      <td>59</td>\n",
       "      <td>1</td>\n",
       "      <td>45</td>\n",
       "      <td>88</td>\n",
       "    </tr>\n",
       "    <tr>\n",
       "      <th>g</th>\n",
       "      <td>73</td>\n",
       "      <td>53</td>\n",
       "      <td>87</td>\n",
       "      <td>33</td>\n",
       "      <td>46</td>\n",
       "      <td>37</td>\n",
       "    </tr>\n",
       "    <tr>\n",
       "      <th>h</th>\n",
       "      <td>12</td>\n",
       "      <td>12</td>\n",
       "      <td>23</td>\n",
       "      <td>82</td>\n",
       "      <td>94</td>\n",
       "      <td>8</td>\n",
       "    </tr>\n",
       "  </tbody>\n",
       "</table>\n",
       "</div>"
      ],
      "text/plain": [
       "   duration  playtime  up  favorite  comment  share\n",
       "a         1        29  95        40       30     13\n",
       "b        58        43  26        78       70     61\n",
       "c        41        18  17        57       45     29\n",
       "d        14        55  36        82       75     43\n",
       "e        25        40  49         5       49     57\n",
       "f        48        61  59         1       45     88\n",
       "g        73        53  87        33       46     37\n",
       "h        12        12  23        82       94      8"
      ]
     },
     "execution_count": 4,
     "metadata": {},
     "output_type": "execute_result"
    }
   ],
   "source": [
    "# dict -> df\n",
    "df_dict = pd.DataFrame.from_dict(data_dict, orient='index')\n",
    "df_dict"
   ]
  },
  {
   "cell_type": "markdown",
   "metadata": {},
   "source": [
    "## csv文件"
   ]
  },
  {
   "cell_type": "code",
   "execution_count": 5,
   "metadata": {},
   "outputs": [],
   "source": [
    "# 存储为csv文件\n",
    "df.to_csv('sample.csv')"
   ]
  },
  {
   "cell_type": "code",
   "execution_count": 6,
   "metadata": {},
   "outputs": [
    {
     "data": {
      "text/plain": [
       "array([[ 1, 29, 95, 40, 30, 13],\n",
       "       [58, 43, 26, 78, 70, 61],\n",
       "       [41, 18, 17, 57, 45, 29],\n",
       "       [14, 55, 36, 82, 75, 43],\n",
       "       [25, 40, 49,  5, 49, 57],\n",
       "       [48, 61, 59,  1, 45, 88],\n",
       "       [73, 53, 87, 33, 46, 37],\n",
       "       [12, 12, 23, 82, 94,  8]])"
      ]
     },
     "execution_count": 6,
     "metadata": {},
     "output_type": "execute_result"
    }
   ],
   "source": [
    "# 需要指定index_col=0\n",
    "df_csv = pd.read_csv('sample.csv', index_col=0)\n",
    "df_csv.values"
   ]
  },
  {
   "cell_type": "markdown",
   "metadata": {},
   "source": [
    "## excel文件"
   ]
  },
  {
   "cell_type": "code",
   "execution_count": 7,
   "metadata": {},
   "outputs": [],
   "source": [
    "df.to_excel('sample.xlsx')"
   ]
  },
  {
   "cell_type": "code",
   "execution_count": 8,
   "metadata": {},
   "outputs": [
    {
     "data": {
      "text/html": [
       "<div>\n",
       "<style scoped>\n",
       "    .dataframe tbody tr th:only-of-type {\n",
       "        vertical-align: middle;\n",
       "    }\n",
       "\n",
       "    .dataframe tbody tr th {\n",
       "        vertical-align: top;\n",
       "    }\n",
       "\n",
       "    .dataframe thead th {\n",
       "        text-align: right;\n",
       "    }\n",
       "</style>\n",
       "<table border=\"1\" class=\"dataframe\">\n",
       "  <thead>\n",
       "    <tr style=\"text-align: right;\">\n",
       "      <th></th>\n",
       "      <th>Unnamed: 0</th>\n",
       "      <th>duration</th>\n",
       "      <th>playtime</th>\n",
       "      <th>up</th>\n",
       "      <th>favorite</th>\n",
       "      <th>comment</th>\n",
       "      <th>share</th>\n",
       "    </tr>\n",
       "  </thead>\n",
       "  <tbody>\n",
       "    <tr>\n",
       "      <th>0</th>\n",
       "      <td>a</td>\n",
       "      <td>1</td>\n",
       "      <td>29</td>\n",
       "      <td>95</td>\n",
       "      <td>40</td>\n",
       "      <td>30</td>\n",
       "      <td>13</td>\n",
       "    </tr>\n",
       "    <tr>\n",
       "      <th>1</th>\n",
       "      <td>b</td>\n",
       "      <td>58</td>\n",
       "      <td>43</td>\n",
       "      <td>26</td>\n",
       "      <td>78</td>\n",
       "      <td>70</td>\n",
       "      <td>61</td>\n",
       "    </tr>\n",
       "    <tr>\n",
       "      <th>2</th>\n",
       "      <td>c</td>\n",
       "      <td>41</td>\n",
       "      <td>18</td>\n",
       "      <td>17</td>\n",
       "      <td>57</td>\n",
       "      <td>45</td>\n",
       "      <td>29</td>\n",
       "    </tr>\n",
       "    <tr>\n",
       "      <th>3</th>\n",
       "      <td>d</td>\n",
       "      <td>14</td>\n",
       "      <td>55</td>\n",
       "      <td>36</td>\n",
       "      <td>82</td>\n",
       "      <td>75</td>\n",
       "      <td>43</td>\n",
       "    </tr>\n",
       "    <tr>\n",
       "      <th>4</th>\n",
       "      <td>e</td>\n",
       "      <td>25</td>\n",
       "      <td>40</td>\n",
       "      <td>49</td>\n",
       "      <td>5</td>\n",
       "      <td>49</td>\n",
       "      <td>57</td>\n",
       "    </tr>\n",
       "    <tr>\n",
       "      <th>5</th>\n",
       "      <td>f</td>\n",
       "      <td>48</td>\n",
       "      <td>61</td>\n",
       "      <td>59</td>\n",
       "      <td>1</td>\n",
       "      <td>45</td>\n",
       "      <td>88</td>\n",
       "    </tr>\n",
       "    <tr>\n",
       "      <th>6</th>\n",
       "      <td>g</td>\n",
       "      <td>73</td>\n",
       "      <td>53</td>\n",
       "      <td>87</td>\n",
       "      <td>33</td>\n",
       "      <td>46</td>\n",
       "      <td>37</td>\n",
       "    </tr>\n",
       "    <tr>\n",
       "      <th>7</th>\n",
       "      <td>h</td>\n",
       "      <td>12</td>\n",
       "      <td>12</td>\n",
       "      <td>23</td>\n",
       "      <td>82</td>\n",
       "      <td>94</td>\n",
       "      <td>8</td>\n",
       "    </tr>\n",
       "  </tbody>\n",
       "</table>\n",
       "</div>"
      ],
      "text/plain": [
       "  Unnamed: 0  duration  playtime  up  favorite  comment  share\n",
       "0          a         1        29  95        40       30     13\n",
       "1          b        58        43  26        78       70     61\n",
       "2          c        41        18  17        57       45     29\n",
       "3          d        14        55  36        82       75     43\n",
       "4          e        25        40  49         5       49     57\n",
       "5          f        48        61  59         1       45     88\n",
       "6          g        73        53  87        33       46     37\n",
       "7          h        12        12  23        82       94      8"
      ]
     },
     "execution_count": 8,
     "metadata": {},
     "output_type": "execute_result"
    }
   ],
   "source": [
    "# 若不指定index_col=0，会多出一行'Unnamed: 0'\n",
    "df_excel = pd.read_excel('sample.xlsx')\n",
    "df_excel"
   ]
  }
 ],
 "metadata": {
  "kernelspec": {
   "display_name": "Python 3",
   "language": "python",
   "name": "python3"
  },
  "language_info": {
   "codemirror_mode": {
    "name": "ipython",
    "version": 3
   },
   "file_extension": ".py",
   "mimetype": "text/x-python",
   "name": "python",
   "nbconvert_exporter": "python",
   "pygments_lexer": "ipython3",
   "version": "3.8.3"
  }
 },
 "nbformat": 4,
 "nbformat_minor": 4
}
