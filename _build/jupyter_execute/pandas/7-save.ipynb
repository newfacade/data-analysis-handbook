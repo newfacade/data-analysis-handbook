{
 "cells": [
  {
   "cell_type": "markdown",
   "metadata": {},
   "source": [
    "# 保存与加载"
   ]
  },
  {
   "cell_type": "code",
   "execution_count": 1,
   "metadata": {},
   "outputs": [],
   "source": [
    "import pandas as pd\n",
    "import numpy as np"
   ]
  },
  {
   "cell_type": "markdown",
   "metadata": {},
   "source": [
    "## 与dict转换"
   ]
  },
  {
   "cell_type": "code",
   "execution_count": 2,
   "metadata": {},
   "outputs": [
    {
     "data": {
      "text/plain": [
       "array([[ 8, 66, 30, 34,  8, 40],\n",
       "       [59, 84, 47, 31, 50, 91],\n",
       "       [31, 18, 78, 64, 28, 57],\n",
       "       [19, 47, 20,  8, 12, 96],\n",
       "       [99, 64, 57, 19, 33, 63],\n",
       "       [73, 82, 48, 44, 57,  4],\n",
       "       [25, 65, 98,  9, 83, 97],\n",
       "       [96, 31, 66, 13, 13, 29]])"
      ]
     },
     "execution_count": 2,
     "metadata": {},
     "output_type": "execute_result"
    }
   ],
   "source": [
    "\"\"\"\n",
    "使用指定data,index,columns的方式创建dataframe\n",
    "下面使用了ord和chr来遍历字母表\n",
    "\"\"\"\n",
    "index = [chr(i) for i in range(ord('a'), ord('a') + 8)]\n",
    "columns = ['duration', 'playtime', 'up', 'favorite', 'comment', 'share']\n",
    "df = pd.DataFrame(np.random.randint(1, 100, (len(index), len(columns))), index=index, columns=columns)\n",
    "df.values"
   ]
  },
  {
   "cell_type": "code",
   "execution_count": 3,
   "metadata": {},
   "outputs": [
    {
     "data": {
      "text/plain": [
       "{'a': {'duration': 8,\n",
       "  'playtime': 66,\n",
       "  'up': 30,\n",
       "  'favorite': 34,\n",
       "  'comment': 8,\n",
       "  'share': 40},\n",
       " 'b': {'duration': 59,\n",
       "  'playtime': 84,\n",
       "  'up': 47,\n",
       "  'favorite': 31,\n",
       "  'comment': 50,\n",
       "  'share': 91},\n",
       " 'c': {'duration': 31,\n",
       "  'playtime': 18,\n",
       "  'up': 78,\n",
       "  'favorite': 64,\n",
       "  'comment': 28,\n",
       "  'share': 57},\n",
       " 'd': {'duration': 19,\n",
       "  'playtime': 47,\n",
       "  'up': 20,\n",
       "  'favorite': 8,\n",
       "  'comment': 12,\n",
       "  'share': 96},\n",
       " 'e': {'duration': 99,\n",
       "  'playtime': 64,\n",
       "  'up': 57,\n",
       "  'favorite': 19,\n",
       "  'comment': 33,\n",
       "  'share': 63},\n",
       " 'f': {'duration': 73,\n",
       "  'playtime': 82,\n",
       "  'up': 48,\n",
       "  'favorite': 44,\n",
       "  'comment': 57,\n",
       "  'share': 4},\n",
       " 'g': {'duration': 25,\n",
       "  'playtime': 65,\n",
       "  'up': 98,\n",
       "  'favorite': 9,\n",
       "  'comment': 83,\n",
       "  'share': 97},\n",
       " 'h': {'duration': 96,\n",
       "  'playtime': 31,\n",
       "  'up': 66,\n",
       "  'favorite': 13,\n",
       "  'comment': 13,\n",
       "  'share': 29}}"
      ]
     },
     "execution_count": 3,
     "metadata": {},
     "output_type": "execute_result"
    }
   ],
   "source": [
    "# df -> dict\n",
    "data_dict = df.to_dict(orient='index')\n",
    "data_dict"
   ]
  },
  {
   "cell_type": "code",
   "execution_count": 4,
   "metadata": {},
   "outputs": [
    {
     "data": {
      "text/html": [
       "<div>\n",
       "<style scoped>\n",
       "    .dataframe tbody tr th:only-of-type {\n",
       "        vertical-align: middle;\n",
       "    }\n",
       "\n",
       "    .dataframe tbody tr th {\n",
       "        vertical-align: top;\n",
       "    }\n",
       "\n",
       "    .dataframe thead th {\n",
       "        text-align: right;\n",
       "    }\n",
       "</style>\n",
       "<table border=\"1\" class=\"dataframe\">\n",
       "  <thead>\n",
       "    <tr style=\"text-align: right;\">\n",
       "      <th></th>\n",
       "      <th>duration</th>\n",
       "      <th>playtime</th>\n",
       "      <th>up</th>\n",
       "      <th>favorite</th>\n",
       "      <th>comment</th>\n",
       "      <th>share</th>\n",
       "    </tr>\n",
       "  </thead>\n",
       "  <tbody>\n",
       "    <tr>\n",
       "      <th>a</th>\n",
       "      <td>8</td>\n",
       "      <td>66</td>\n",
       "      <td>30</td>\n",
       "      <td>34</td>\n",
       "      <td>8</td>\n",
       "      <td>40</td>\n",
       "    </tr>\n",
       "    <tr>\n",
       "      <th>b</th>\n",
       "      <td>59</td>\n",
       "      <td>84</td>\n",
       "      <td>47</td>\n",
       "      <td>31</td>\n",
       "      <td>50</td>\n",
       "      <td>91</td>\n",
       "    </tr>\n",
       "    <tr>\n",
       "      <th>c</th>\n",
       "      <td>31</td>\n",
       "      <td>18</td>\n",
       "      <td>78</td>\n",
       "      <td>64</td>\n",
       "      <td>28</td>\n",
       "      <td>57</td>\n",
       "    </tr>\n",
       "    <tr>\n",
       "      <th>d</th>\n",
       "      <td>19</td>\n",
       "      <td>47</td>\n",
       "      <td>20</td>\n",
       "      <td>8</td>\n",
       "      <td>12</td>\n",
       "      <td>96</td>\n",
       "    </tr>\n",
       "    <tr>\n",
       "      <th>e</th>\n",
       "      <td>99</td>\n",
       "      <td>64</td>\n",
       "      <td>57</td>\n",
       "      <td>19</td>\n",
       "      <td>33</td>\n",
       "      <td>63</td>\n",
       "    </tr>\n",
       "    <tr>\n",
       "      <th>f</th>\n",
       "      <td>73</td>\n",
       "      <td>82</td>\n",
       "      <td>48</td>\n",
       "      <td>44</td>\n",
       "      <td>57</td>\n",
       "      <td>4</td>\n",
       "    </tr>\n",
       "    <tr>\n",
       "      <th>g</th>\n",
       "      <td>25</td>\n",
       "      <td>65</td>\n",
       "      <td>98</td>\n",
       "      <td>9</td>\n",
       "      <td>83</td>\n",
       "      <td>97</td>\n",
       "    </tr>\n",
       "    <tr>\n",
       "      <th>h</th>\n",
       "      <td>96</td>\n",
       "      <td>31</td>\n",
       "      <td>66</td>\n",
       "      <td>13</td>\n",
       "      <td>13</td>\n",
       "      <td>29</td>\n",
       "    </tr>\n",
       "  </tbody>\n",
       "</table>\n",
       "</div>"
      ],
      "text/plain": [
       "   duration  playtime  up  favorite  comment  share\n",
       "a         8        66  30        34        8     40\n",
       "b        59        84  47        31       50     91\n",
       "c        31        18  78        64       28     57\n",
       "d        19        47  20         8       12     96\n",
       "e        99        64  57        19       33     63\n",
       "f        73        82  48        44       57      4\n",
       "g        25        65  98         9       83     97\n",
       "h        96        31  66        13       13     29"
      ]
     },
     "execution_count": 4,
     "metadata": {},
     "output_type": "execute_result"
    }
   ],
   "source": [
    "# dict -> df\n",
    "df_dict = pd.DataFrame.from_dict(data_dict, orient='index')\n",
    "df_dict"
   ]
  },
  {
   "cell_type": "markdown",
   "metadata": {},
   "source": [
    "## csv文件"
   ]
  },
  {
   "cell_type": "code",
   "execution_count": 5,
   "metadata": {},
   "outputs": [],
   "source": [
    "# 存储为csv文件\n",
    "df.to_csv('sample.csv')"
   ]
  },
  {
   "cell_type": "code",
   "execution_count": 6,
   "metadata": {},
   "outputs": [
    {
     "data": {
      "text/plain": [
       "array([[ 8, 66, 30, 34,  8, 40],\n",
       "       [59, 84, 47, 31, 50, 91],\n",
       "       [31, 18, 78, 64, 28, 57],\n",
       "       [19, 47, 20,  8, 12, 96],\n",
       "       [99, 64, 57, 19, 33, 63],\n",
       "       [73, 82, 48, 44, 57,  4],\n",
       "       [25, 65, 98,  9, 83, 97],\n",
       "       [96, 31, 66, 13, 13, 29]])"
      ]
     },
     "execution_count": 6,
     "metadata": {},
     "output_type": "execute_result"
    }
   ],
   "source": [
    "# 需要指定index_col=0\n",
    "df_csv = pd.read_csv('sample.csv', index_col=0)\n",
    "df_csv.values"
   ]
  },
  {
   "cell_type": "markdown",
   "metadata": {},
   "source": [
    "## excel文件"
   ]
  },
  {
   "cell_type": "code",
   "execution_count": 7,
   "metadata": {},
   "outputs": [],
   "source": [
    "df.to_excel('sample.xlsx')"
   ]
  },
  {
   "cell_type": "code",
   "execution_count": 8,
   "metadata": {},
   "outputs": [
    {
     "data": {
      "text/html": [
       "<div>\n",
       "<style scoped>\n",
       "    .dataframe tbody tr th:only-of-type {\n",
       "        vertical-align: middle;\n",
       "    }\n",
       "\n",
       "    .dataframe tbody tr th {\n",
       "        vertical-align: top;\n",
       "    }\n",
       "\n",
       "    .dataframe thead th {\n",
       "        text-align: right;\n",
       "    }\n",
       "</style>\n",
       "<table border=\"1\" class=\"dataframe\">\n",
       "  <thead>\n",
       "    <tr style=\"text-align: right;\">\n",
       "      <th></th>\n",
       "      <th>Unnamed: 0</th>\n",
       "      <th>duration</th>\n",
       "      <th>playtime</th>\n",
       "      <th>up</th>\n",
       "      <th>favorite</th>\n",
       "      <th>comment</th>\n",
       "      <th>share</th>\n",
       "    </tr>\n",
       "  </thead>\n",
       "  <tbody>\n",
       "    <tr>\n",
       "      <th>0</th>\n",
       "      <td>a</td>\n",
       "      <td>8</td>\n",
       "      <td>66</td>\n",
       "      <td>30</td>\n",
       "      <td>34</td>\n",
       "      <td>8</td>\n",
       "      <td>40</td>\n",
       "    </tr>\n",
       "    <tr>\n",
       "      <th>1</th>\n",
       "      <td>b</td>\n",
       "      <td>59</td>\n",
       "      <td>84</td>\n",
       "      <td>47</td>\n",
       "      <td>31</td>\n",
       "      <td>50</td>\n",
       "      <td>91</td>\n",
       "    </tr>\n",
       "    <tr>\n",
       "      <th>2</th>\n",
       "      <td>c</td>\n",
       "      <td>31</td>\n",
       "      <td>18</td>\n",
       "      <td>78</td>\n",
       "      <td>64</td>\n",
       "      <td>28</td>\n",
       "      <td>57</td>\n",
       "    </tr>\n",
       "    <tr>\n",
       "      <th>3</th>\n",
       "      <td>d</td>\n",
       "      <td>19</td>\n",
       "      <td>47</td>\n",
       "      <td>20</td>\n",
       "      <td>8</td>\n",
       "      <td>12</td>\n",
       "      <td>96</td>\n",
       "    </tr>\n",
       "    <tr>\n",
       "      <th>4</th>\n",
       "      <td>e</td>\n",
       "      <td>99</td>\n",
       "      <td>64</td>\n",
       "      <td>57</td>\n",
       "      <td>19</td>\n",
       "      <td>33</td>\n",
       "      <td>63</td>\n",
       "    </tr>\n",
       "    <tr>\n",
       "      <th>5</th>\n",
       "      <td>f</td>\n",
       "      <td>73</td>\n",
       "      <td>82</td>\n",
       "      <td>48</td>\n",
       "      <td>44</td>\n",
       "      <td>57</td>\n",
       "      <td>4</td>\n",
       "    </tr>\n",
       "    <tr>\n",
       "      <th>6</th>\n",
       "      <td>g</td>\n",
       "      <td>25</td>\n",
       "      <td>65</td>\n",
       "      <td>98</td>\n",
       "      <td>9</td>\n",
       "      <td>83</td>\n",
       "      <td>97</td>\n",
       "    </tr>\n",
       "    <tr>\n",
       "      <th>7</th>\n",
       "      <td>h</td>\n",
       "      <td>96</td>\n",
       "      <td>31</td>\n",
       "      <td>66</td>\n",
       "      <td>13</td>\n",
       "      <td>13</td>\n",
       "      <td>29</td>\n",
       "    </tr>\n",
       "  </tbody>\n",
       "</table>\n",
       "</div>"
      ],
      "text/plain": [
       "  Unnamed: 0  duration  playtime  up  favorite  comment  share\n",
       "0          a         8        66  30        34        8     40\n",
       "1          b        59        84  47        31       50     91\n",
       "2          c        31        18  78        64       28     57\n",
       "3          d        19        47  20         8       12     96\n",
       "4          e        99        64  57        19       33     63\n",
       "5          f        73        82  48        44       57      4\n",
       "6          g        25        65  98         9       83     97\n",
       "7          h        96        31  66        13       13     29"
      ]
     },
     "execution_count": 8,
     "metadata": {},
     "output_type": "execute_result"
    }
   ],
   "source": [
    "# 若不指定index_col=0，会多出一行'Unnamed: 0'\n",
    "df_excel = pd.read_excel('sample.xlsx')\n",
    "df_excel"
   ]
  }
 ],
 "metadata": {
  "kernelspec": {
   "display_name": "Python 3",
   "language": "python",
   "name": "python3"
  },
  "language_info": {
   "codemirror_mode": {
    "name": "ipython",
    "version": 3
   },
   "file_extension": ".py",
   "mimetype": "text/x-python",
   "name": "python",
   "nbconvert_exporter": "python",
   "pygments_lexer": "ipython3",
   "version": "3.8.3"
  }
 },
 "nbformat": 4,
 "nbformat_minor": 4
}