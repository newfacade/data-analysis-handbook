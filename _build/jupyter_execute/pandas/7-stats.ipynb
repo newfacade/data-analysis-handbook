{
 "cells": [
  {
   "cell_type": "markdown",
   "metadata": {},
   "source": [
    "# 统计信息"
   ]
  },
  {
   "cell_type": "code",
   "execution_count": 1,
   "metadata": {},
   "outputs": [],
   "source": [
    "import pandas as pd\n",
    "import numpy as np"
   ]
  },
  {
   "cell_type": "markdown",
   "metadata": {},
   "source": [
    "## 通过describe查看总体信息"
   ]
  },
  {
   "cell_type": "code",
   "execution_count": 2,
   "metadata": {},
   "outputs": [
    {
     "data": {
      "text/html": [
       "<div>\n",
       "<style scoped>\n",
       "    .dataframe tbody tr th:only-of-type {\n",
       "        vertical-align: middle;\n",
       "    }\n",
       "\n",
       "    .dataframe tbody tr th {\n",
       "        vertical-align: top;\n",
       "    }\n",
       "\n",
       "    .dataframe thead th {\n",
       "        text-align: right;\n",
       "    }\n",
       "</style>\n",
       "<table border=\"1\" class=\"dataframe\">\n",
       "  <thead>\n",
       "    <tr style=\"text-align: right;\">\n",
       "      <th></th>\n",
       "      <th>duration</th>\n",
       "      <th>playtime</th>\n",
       "      <th>up</th>\n",
       "      <th>favorite</th>\n",
       "      <th>comment</th>\n",
       "      <th>share</th>\n",
       "    </tr>\n",
       "  </thead>\n",
       "  <tbody>\n",
       "    <tr>\n",
       "      <th>a</th>\n",
       "      <td>99</td>\n",
       "      <td>20</td>\n",
       "      <td>37</td>\n",
       "      <td>88</td>\n",
       "      <td>59</td>\n",
       "      <td>31</td>\n",
       "    </tr>\n",
       "    <tr>\n",
       "      <th>b</th>\n",
       "      <td>60</td>\n",
       "      <td>11</td>\n",
       "      <td>87</td>\n",
       "      <td>47</td>\n",
       "      <td>19</td>\n",
       "      <td>20</td>\n",
       "    </tr>\n",
       "    <tr>\n",
       "      <th>c</th>\n",
       "      <td>69</td>\n",
       "      <td>78</td>\n",
       "      <td>50</td>\n",
       "      <td>27</td>\n",
       "      <td>8</td>\n",
       "      <td>18</td>\n",
       "    </tr>\n",
       "    <tr>\n",
       "      <th>d</th>\n",
       "      <td>41</td>\n",
       "      <td>74</td>\n",
       "      <td>35</td>\n",
       "      <td>57</td>\n",
       "      <td>39</td>\n",
       "      <td>9</td>\n",
       "    </tr>\n",
       "    <tr>\n",
       "      <th>e</th>\n",
       "      <td>92</td>\n",
       "      <td>22</td>\n",
       "      <td>42</td>\n",
       "      <td>61</td>\n",
       "      <td>22</td>\n",
       "      <td>27</td>\n",
       "    </tr>\n",
       "    <tr>\n",
       "      <th>f</th>\n",
       "      <td>57</td>\n",
       "      <td>17</td>\n",
       "      <td>57</td>\n",
       "      <td>27</td>\n",
       "      <td>92</td>\n",
       "      <td>26</td>\n",
       "    </tr>\n",
       "    <tr>\n",
       "      <th>g</th>\n",
       "      <td>10</td>\n",
       "      <td>67</td>\n",
       "      <td>19</td>\n",
       "      <td>54</td>\n",
       "      <td>42</td>\n",
       "      <td>63</td>\n",
       "    </tr>\n",
       "    <tr>\n",
       "      <th>h</th>\n",
       "      <td>6</td>\n",
       "      <td>67</td>\n",
       "      <td>69</td>\n",
       "      <td>42</td>\n",
       "      <td>7</td>\n",
       "      <td>69</td>\n",
       "    </tr>\n",
       "  </tbody>\n",
       "</table>\n",
       "</div>"
      ],
      "text/plain": [
       "   duration  playtime  up  favorite  comment  share\n",
       "a        99        20  37        88       59     31\n",
       "b        60        11  87        47       19     20\n",
       "c        69        78  50        27        8     18\n",
       "d        41        74  35        57       39      9\n",
       "e        92        22  42        61       22     27\n",
       "f        57        17  57        27       92     26\n",
       "g        10        67  19        54       42     63\n",
       "h         6        67  69        42        7     69"
      ]
     },
     "execution_count": 2,
     "metadata": {},
     "output_type": "execute_result"
    }
   ],
   "source": [
    "df = pd.read_csv('sample.csv', index_col=0)\n",
    "df"
   ]
  },
  {
   "cell_type": "code",
   "execution_count": 3,
   "metadata": {},
   "outputs": [
    {
     "data": {
      "text/html": [
       "<div>\n",
       "<style scoped>\n",
       "    .dataframe tbody tr th:only-of-type {\n",
       "        vertical-align: middle;\n",
       "    }\n",
       "\n",
       "    .dataframe tbody tr th {\n",
       "        vertical-align: top;\n",
       "    }\n",
       "\n",
       "    .dataframe thead th {\n",
       "        text-align: right;\n",
       "    }\n",
       "</style>\n",
       "<table border=\"1\" class=\"dataframe\">\n",
       "  <thead>\n",
       "    <tr style=\"text-align: right;\">\n",
       "      <th></th>\n",
       "      <th>duration</th>\n",
       "      <th>playtime</th>\n",
       "      <th>up</th>\n",
       "      <th>favorite</th>\n",
       "      <th>comment</th>\n",
       "      <th>share</th>\n",
       "    </tr>\n",
       "  </thead>\n",
       "  <tbody>\n",
       "    <tr>\n",
       "      <th>count</th>\n",
       "      <td>8.000000</td>\n",
       "      <td>8.000000</td>\n",
       "      <td>8.000000</td>\n",
       "      <td>8.000000</td>\n",
       "      <td>8.000000</td>\n",
       "      <td>8.000000</td>\n",
       "    </tr>\n",
       "    <tr>\n",
       "      <th>mean</th>\n",
       "      <td>54.250000</td>\n",
       "      <td>44.500000</td>\n",
       "      <td>49.500000</td>\n",
       "      <td>50.375000</td>\n",
       "      <td>36.000000</td>\n",
       "      <td>32.875000</td>\n",
       "    </tr>\n",
       "    <tr>\n",
       "      <th>std</th>\n",
       "      <td>34.116397</td>\n",
       "      <td>29.252595</td>\n",
       "      <td>21.367532</td>\n",
       "      <td>19.856179</td>\n",
       "      <td>28.834503</td>\n",
       "      <td>21.563445</td>\n",
       "    </tr>\n",
       "    <tr>\n",
       "      <th>min</th>\n",
       "      <td>6.000000</td>\n",
       "      <td>11.000000</td>\n",
       "      <td>19.000000</td>\n",
       "      <td>27.000000</td>\n",
       "      <td>7.000000</td>\n",
       "      <td>9.000000</td>\n",
       "    </tr>\n",
       "    <tr>\n",
       "      <th>25%</th>\n",
       "      <td>33.250000</td>\n",
       "      <td>19.250000</td>\n",
       "      <td>36.500000</td>\n",
       "      <td>38.250000</td>\n",
       "      <td>16.250000</td>\n",
       "      <td>19.500000</td>\n",
       "    </tr>\n",
       "    <tr>\n",
       "      <th>50%</th>\n",
       "      <td>58.500000</td>\n",
       "      <td>44.500000</td>\n",
       "      <td>46.000000</td>\n",
       "      <td>50.500000</td>\n",
       "      <td>30.500000</td>\n",
       "      <td>26.500000</td>\n",
       "    </tr>\n",
       "    <tr>\n",
       "      <th>75%</th>\n",
       "      <td>74.750000</td>\n",
       "      <td>68.750000</td>\n",
       "      <td>60.000000</td>\n",
       "      <td>58.000000</td>\n",
       "      <td>46.250000</td>\n",
       "      <td>39.000000</td>\n",
       "    </tr>\n",
       "    <tr>\n",
       "      <th>max</th>\n",
       "      <td>99.000000</td>\n",
       "      <td>78.000000</td>\n",
       "      <td>87.000000</td>\n",
       "      <td>88.000000</td>\n",
       "      <td>92.000000</td>\n",
       "      <td>69.000000</td>\n",
       "    </tr>\n",
       "  </tbody>\n",
       "</table>\n",
       "</div>"
      ],
      "text/plain": [
       "        duration   playtime         up   favorite    comment      share\n",
       "count   8.000000   8.000000   8.000000   8.000000   8.000000   8.000000\n",
       "mean   54.250000  44.500000  49.500000  50.375000  36.000000  32.875000\n",
       "std    34.116397  29.252595  21.367532  19.856179  28.834503  21.563445\n",
       "min     6.000000  11.000000  19.000000  27.000000   7.000000   9.000000\n",
       "25%    33.250000  19.250000  36.500000  38.250000  16.250000  19.500000\n",
       "50%    58.500000  44.500000  46.000000  50.500000  30.500000  26.500000\n",
       "75%    74.750000  68.750000  60.000000  58.000000  46.250000  39.000000\n",
       "max    99.000000  78.000000  87.000000  88.000000  92.000000  69.000000"
      ]
     },
     "execution_count": 3,
     "metadata": {},
     "output_type": "execute_result"
    }
   ],
   "source": [
    "df.describe()"
   ]
  },
  {
   "cell_type": "code",
   "execution_count": 4,
   "metadata": {},
   "outputs": [
    {
     "data": {
      "text/plain": [
       "count     8.000000\n",
       "mean     49.500000\n",
       "std      21.367532\n",
       "min      19.000000\n",
       "25%      36.500000\n",
       "50%      46.000000\n",
       "75%      60.000000\n",
       "max      87.000000\n",
       "Name: up, dtype: float64"
      ]
     },
     "execution_count": 4,
     "metadata": {},
     "output_type": "execute_result"
    }
   ],
   "source": [
    "df['up'].describe()"
   ]
  },
  {
   "cell_type": "markdown",
   "metadata": {},
   "source": [
    "## 统计函数"
   ]
  },
  {
   "cell_type": "code",
   "execution_count": 5,
   "metadata": {},
   "outputs": [
    {
     "data": {
      "text/plain": [
       "49.5"
      ]
     },
     "execution_count": 5,
     "metadata": {},
     "output_type": "execute_result"
    }
   ],
   "source": [
    "df['up'].mean() # 也有count,sum,median,min,max,std等统计函数"
   ]
  },
  {
   "cell_type": "code",
   "execution_count": 6,
   "metadata": {},
   "outputs": [
    {
     "data": {
      "text/plain": [
       "duration    74.75\n",
       "playtime    68.75\n",
       "up          60.00\n",
       "favorite    58.00\n",
       "comment     46.25\n",
       "share       39.00\n",
       "Name: 0.75, dtype: float64"
      ]
     },
     "execution_count": 6,
     "metadata": {},
     "output_type": "execute_result"
    }
   ],
   "source": [
    "df.quantile(q=0.75) # 75%分位数"
   ]
  },
  {
   "cell_type": "code",
   "execution_count": 7,
   "metadata": {},
   "outputs": [
    {
     "data": {
      "text/html": [
       "<div>\n",
       "<style scoped>\n",
       "    .dataframe tbody tr th:only-of-type {\n",
       "        vertical-align: middle;\n",
       "    }\n",
       "\n",
       "    .dataframe tbody tr th {\n",
       "        vertical-align: top;\n",
       "    }\n",
       "\n",
       "    .dataframe thead th {\n",
       "        text-align: right;\n",
       "    }\n",
       "</style>\n",
       "<table border=\"1\" class=\"dataframe\">\n",
       "  <thead>\n",
       "    <tr style=\"text-align: right;\">\n",
       "      <th></th>\n",
       "      <th>duration</th>\n",
       "      <th>playtime</th>\n",
       "      <th>up</th>\n",
       "      <th>favorite</th>\n",
       "      <th>comment</th>\n",
       "      <th>share</th>\n",
       "    </tr>\n",
       "  </thead>\n",
       "  <tbody>\n",
       "    <tr>\n",
       "      <th>duration</th>\n",
       "      <td>1.000000</td>\n",
       "      <td>-0.600061</td>\n",
       "      <td>0.000392</td>\n",
       "      <td>0.382174</td>\n",
       "      <td>0.179782</td>\n",
       "      <td>-0.655916</td>\n",
       "    </tr>\n",
       "    <tr>\n",
       "      <th>playtime</th>\n",
       "      <td>-0.600061</td>\n",
       "      <td>1.000000</td>\n",
       "      <td>-0.376195</td>\n",
       "      <td>-0.270419</td>\n",
       "      <td>-0.437979</td>\n",
       "      <td>0.246065</td>\n",
       "    </tr>\n",
       "    <tr>\n",
       "      <th>up</th>\n",
       "      <td>0.000392</td>\n",
       "      <td>-0.376195</td>\n",
       "      <td>1.000000</td>\n",
       "      <td>-0.415328</td>\n",
       "      <td>-0.279629</td>\n",
       "      <td>-0.106192</td>\n",
       "    </tr>\n",
       "    <tr>\n",
       "      <th>favorite</th>\n",
       "      <td>0.382174</td>\n",
       "      <td>-0.270419</td>\n",
       "      <td>-0.415328</td>\n",
       "      <td>1.000000</td>\n",
       "      <td>0.100803</td>\n",
       "      <td>0.022480</td>\n",
       "    </tr>\n",
       "    <tr>\n",
       "      <th>comment</th>\n",
       "      <td>0.179782</td>\n",
       "      <td>-0.437979</td>\n",
       "      <td>-0.279629</td>\n",
       "      <td>0.100803</td>\n",
       "      <td>1.000000</td>\n",
       "      <td>-0.149113</td>\n",
       "    </tr>\n",
       "    <tr>\n",
       "      <th>share</th>\n",
       "      <td>-0.655916</td>\n",
       "      <td>0.246065</td>\n",
       "      <td>-0.106192</td>\n",
       "      <td>0.022480</td>\n",
       "      <td>-0.149113</td>\n",
       "      <td>1.000000</td>\n",
       "    </tr>\n",
       "  </tbody>\n",
       "</table>\n",
       "</div>"
      ],
      "text/plain": [
       "          duration  playtime        up  favorite   comment     share\n",
       "duration  1.000000 -0.600061  0.000392  0.382174  0.179782 -0.655916\n",
       "playtime -0.600061  1.000000 -0.376195 -0.270419 -0.437979  0.246065\n",
       "up        0.000392 -0.376195  1.000000 -0.415328 -0.279629 -0.106192\n",
       "favorite  0.382174 -0.270419 -0.415328  1.000000  0.100803  0.022480\n",
       "comment   0.179782 -0.437979 -0.279629  0.100803  1.000000 -0.149113\n",
       "share    -0.655916  0.246065 -0.106192  0.022480 -0.149113  1.000000"
      ]
     },
     "execution_count": 7,
     "metadata": {},
     "output_type": "execute_result"
    }
   ],
   "source": [
    "df.corr() # 各列的相关系数"
   ]
  },
  {
   "cell_type": "markdown",
   "metadata": {},
   "source": [
    "## cut和qcut\n",
    "\n",
    "### cut是等间距分箱"
   ]
  },
  {
   "cell_type": "code",
   "execution_count": 8,
   "metadata": {},
   "outputs": [
    {
     "data": {
      "text/plain": [
       "a     (75.75, 99.0]\n",
       "b     (52.5, 75.75]\n",
       "c     (52.5, 75.75]\n",
       "d     (29.25, 52.5]\n",
       "e     (75.75, 99.0]\n",
       "f     (52.5, 75.75]\n",
       "g    (5.907, 29.25]\n",
       "h    (5.907, 29.25]\n",
       "Name: duration, dtype: category\n",
       "Categories (4, interval[float64, right]): [(5.907, 29.25] < (29.25, 52.5] < (52.5, 75.75] < (75.75, 99.0]]"
      ]
     },
     "execution_count": 8,
     "metadata": {},
     "output_type": "execute_result"
    }
   ],
   "source": [
    "pd.cut(df['duration'], 4, labels=None)"
   ]
  },
  {
   "cell_type": "markdown",
   "metadata": {},
   "source": [
    "### qcut是按分位数分箱"
   ]
  },
  {
   "cell_type": "code",
   "execution_count": 9,
   "metadata": {},
   "outputs": [
    {
     "data": {
      "text/html": [
       "<div>\n",
       "<style scoped>\n",
       "    .dataframe tbody tr th:only-of-type {\n",
       "        vertical-align: middle;\n",
       "    }\n",
       "\n",
       "    .dataframe tbody tr th {\n",
       "        vertical-align: top;\n",
       "    }\n",
       "\n",
       "    .dataframe thead th {\n",
       "        text-align: right;\n",
       "    }\n",
       "</style>\n",
       "<table border=\"1\" class=\"dataframe\">\n",
       "  <thead>\n",
       "    <tr style=\"text-align: right;\">\n",
       "      <th></th>\n",
       "      <th>duration</th>\n",
       "      <th>playtime</th>\n",
       "      <th>up</th>\n",
       "      <th>favorite</th>\n",
       "      <th>comment</th>\n",
       "      <th>share</th>\n",
       "      <th>duration_section</th>\n",
       "    </tr>\n",
       "  </thead>\n",
       "  <tbody>\n",
       "    <tr>\n",
       "      <th>a</th>\n",
       "      <td>99</td>\n",
       "      <td>20</td>\n",
       "      <td>37</td>\n",
       "      <td>88</td>\n",
       "      <td>59</td>\n",
       "      <td>31</td>\n",
       "      <td>2</td>\n",
       "    </tr>\n",
       "    <tr>\n",
       "      <th>b</th>\n",
       "      <td>60</td>\n",
       "      <td>11</td>\n",
       "      <td>87</td>\n",
       "      <td>47</td>\n",
       "      <td>19</td>\n",
       "      <td>20</td>\n",
       "      <td>1</td>\n",
       "    </tr>\n",
       "    <tr>\n",
       "      <th>c</th>\n",
       "      <td>69</td>\n",
       "      <td>78</td>\n",
       "      <td>50</td>\n",
       "      <td>27</td>\n",
       "      <td>8</td>\n",
       "      <td>18</td>\n",
       "      <td>2</td>\n",
       "    </tr>\n",
       "    <tr>\n",
       "      <th>d</th>\n",
       "      <td>41</td>\n",
       "      <td>74</td>\n",
       "      <td>35</td>\n",
       "      <td>57</td>\n",
       "      <td>39</td>\n",
       "      <td>9</td>\n",
       "      <td>0</td>\n",
       "    </tr>\n",
       "    <tr>\n",
       "      <th>e</th>\n",
       "      <td>92</td>\n",
       "      <td>22</td>\n",
       "      <td>42</td>\n",
       "      <td>61</td>\n",
       "      <td>22</td>\n",
       "      <td>27</td>\n",
       "      <td>2</td>\n",
       "    </tr>\n",
       "    <tr>\n",
       "      <th>f</th>\n",
       "      <td>57</td>\n",
       "      <td>17</td>\n",
       "      <td>57</td>\n",
       "      <td>27</td>\n",
       "      <td>92</td>\n",
       "      <td>26</td>\n",
       "      <td>1</td>\n",
       "    </tr>\n",
       "    <tr>\n",
       "      <th>g</th>\n",
       "      <td>10</td>\n",
       "      <td>67</td>\n",
       "      <td>19</td>\n",
       "      <td>54</td>\n",
       "      <td>42</td>\n",
       "      <td>63</td>\n",
       "      <td>0</td>\n",
       "    </tr>\n",
       "    <tr>\n",
       "      <th>h</th>\n",
       "      <td>6</td>\n",
       "      <td>67</td>\n",
       "      <td>69</td>\n",
       "      <td>42</td>\n",
       "      <td>7</td>\n",
       "      <td>69</td>\n",
       "      <td>0</td>\n",
       "    </tr>\n",
       "  </tbody>\n",
       "</table>\n",
       "</div>"
      ],
      "text/plain": [
       "   duration  playtime  up  favorite  comment  share  duration_section\n",
       "a        99        20  37        88       59     31                 2\n",
       "b        60        11  87        47       19     20                 1\n",
       "c        69        78  50        27        8     18                 2\n",
       "d        41        74  35        57       39      9                 0\n",
       "e        92        22  42        61       22     27                 2\n",
       "f        57        17  57        27       92     26                 1\n",
       "g        10        67  19        54       42     63                 0\n",
       "h         6        67  69        42        7     69                 0"
      ]
     },
     "execution_count": 9,
     "metadata": {},
     "output_type": "execute_result"
    }
   ],
   "source": [
    "df['duration_section'] = pd.qcut(df['duration'], 3, labels=False) # 将duration分箱，构成新的一列\n",
    "df"
   ]
  },
  {
   "cell_type": "code",
   "execution_count": null,
   "metadata": {},
   "outputs": [],
   "source": []
  }
 ],
 "metadata": {
  "kernelspec": {
   "display_name": "Python 3",
   "language": "python",
   "name": "python3"
  },
  "language_info": {
   "codemirror_mode": {
    "name": "ipython",
    "version": 3
   },
   "file_extension": ".py",
   "mimetype": "text/x-python",
   "name": "python",
   "nbconvert_exporter": "python",
   "pygments_lexer": "ipython3",
   "version": "3.8.3"
  }
 },
 "nbformat": 4,
 "nbformat_minor": 4
}