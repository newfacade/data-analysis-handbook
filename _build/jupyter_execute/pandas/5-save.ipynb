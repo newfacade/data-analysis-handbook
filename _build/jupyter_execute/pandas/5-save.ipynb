{
 "cells": [
  {
   "cell_type": "markdown",
   "metadata": {},
   "source": [
    "# 保存与加载"
   ]
  },
  {
   "cell_type": "code",
   "execution_count": 1,
   "metadata": {},
   "outputs": [],
   "source": [
    "import pandas as pd\n",
    "import numpy as np"
   ]
  },
  {
   "cell_type": "markdown",
   "metadata": {},
   "source": [
    "## 与dict转换"
   ]
  },
  {
   "cell_type": "code",
   "execution_count": 2,
   "metadata": {},
   "outputs": [
    {
     "data": {
      "text/plain": [
       "array([[99, 20, 37, 88, 59, 31],\n",
       "       [60, 11, 87, 47, 19, 20],\n",
       "       [69, 78, 50, 27,  8, 18],\n",
       "       [41, 74, 35, 57, 39,  9],\n",
       "       [92, 22, 42, 61, 22, 27],\n",
       "       [57, 17, 57, 27, 92, 26],\n",
       "       [10, 67, 19, 54, 42, 63],\n",
       "       [ 6, 67, 69, 42,  7, 69]])"
      ]
     },
     "execution_count": 2,
     "metadata": {},
     "output_type": "execute_result"
    }
   ],
   "source": [
    "\"\"\"\n",
    "使用指定values,index,columns的方式创建dataframe\n",
    "下面使用了ord和chr来遍历字母表\n",
    "\"\"\"\n",
    "index = [chr(i) for i in range(ord('a'), ord('a') + 8)]\n",
    "columns = ['duration', 'playtime', 'up', 'favorite', 'comment', 'share']\n",
    "df = pd.DataFrame(np.random.randint(1, 100, (len(index), len(columns))), index=index, columns=columns)\n",
    "df.values"
   ]
  },
  {
   "cell_type": "code",
   "execution_count": 3,
   "metadata": {},
   "outputs": [
    {
     "data": {
      "text/plain": [
       "{'a': {'duration': 99,\n",
       "  'playtime': 20,\n",
       "  'up': 37,\n",
       "  'favorite': 88,\n",
       "  'comment': 59,\n",
       "  'share': 31},\n",
       " 'b': {'duration': 60,\n",
       "  'playtime': 11,\n",
       "  'up': 87,\n",
       "  'favorite': 47,\n",
       "  'comment': 19,\n",
       "  'share': 20},\n",
       " 'c': {'duration': 69,\n",
       "  'playtime': 78,\n",
       "  'up': 50,\n",
       "  'favorite': 27,\n",
       "  'comment': 8,\n",
       "  'share': 18},\n",
       " 'd': {'duration': 41,\n",
       "  'playtime': 74,\n",
       "  'up': 35,\n",
       "  'favorite': 57,\n",
       "  'comment': 39,\n",
       "  'share': 9},\n",
       " 'e': {'duration': 92,\n",
       "  'playtime': 22,\n",
       "  'up': 42,\n",
       "  'favorite': 61,\n",
       "  'comment': 22,\n",
       "  'share': 27},\n",
       " 'f': {'duration': 57,\n",
       "  'playtime': 17,\n",
       "  'up': 57,\n",
       "  'favorite': 27,\n",
       "  'comment': 92,\n",
       "  'share': 26},\n",
       " 'g': {'duration': 10,\n",
       "  'playtime': 67,\n",
       "  'up': 19,\n",
       "  'favorite': 54,\n",
       "  'comment': 42,\n",
       "  'share': 63},\n",
       " 'h': {'duration': 6,\n",
       "  'playtime': 67,\n",
       "  'up': 69,\n",
       "  'favorite': 42,\n",
       "  'comment': 7,\n",
       "  'share': 69}}"
      ]
     },
     "execution_count": 3,
     "metadata": {},
     "output_type": "execute_result"
    }
   ],
   "source": [
    "data_dict = df.to_dict(orient='index') # df -> dict\n",
    "data_dict"
   ]
  },
  {
   "cell_type": "code",
   "execution_count": 4,
   "metadata": {},
   "outputs": [
    {
     "data": {
      "text/html": [
       "<div>\n",
       "<style scoped>\n",
       "    .dataframe tbody tr th:only-of-type {\n",
       "        vertical-align: middle;\n",
       "    }\n",
       "\n",
       "    .dataframe tbody tr th {\n",
       "        vertical-align: top;\n",
       "    }\n",
       "\n",
       "    .dataframe thead th {\n",
       "        text-align: right;\n",
       "    }\n",
       "</style>\n",
       "<table border=\"1\" class=\"dataframe\">\n",
       "  <thead>\n",
       "    <tr style=\"text-align: right;\">\n",
       "      <th></th>\n",
       "      <th>duration</th>\n",
       "      <th>playtime</th>\n",
       "      <th>up</th>\n",
       "      <th>favorite</th>\n",
       "      <th>comment</th>\n",
       "      <th>share</th>\n",
       "    </tr>\n",
       "  </thead>\n",
       "  <tbody>\n",
       "    <tr>\n",
       "      <th>a</th>\n",
       "      <td>99</td>\n",
       "      <td>20</td>\n",
       "      <td>37</td>\n",
       "      <td>88</td>\n",
       "      <td>59</td>\n",
       "      <td>31</td>\n",
       "    </tr>\n",
       "    <tr>\n",
       "      <th>b</th>\n",
       "      <td>60</td>\n",
       "      <td>11</td>\n",
       "      <td>87</td>\n",
       "      <td>47</td>\n",
       "      <td>19</td>\n",
       "      <td>20</td>\n",
       "    </tr>\n",
       "    <tr>\n",
       "      <th>c</th>\n",
       "      <td>69</td>\n",
       "      <td>78</td>\n",
       "      <td>50</td>\n",
       "      <td>27</td>\n",
       "      <td>8</td>\n",
       "      <td>18</td>\n",
       "    </tr>\n",
       "    <tr>\n",
       "      <th>d</th>\n",
       "      <td>41</td>\n",
       "      <td>74</td>\n",
       "      <td>35</td>\n",
       "      <td>57</td>\n",
       "      <td>39</td>\n",
       "      <td>9</td>\n",
       "    </tr>\n",
       "    <tr>\n",
       "      <th>e</th>\n",
       "      <td>92</td>\n",
       "      <td>22</td>\n",
       "      <td>42</td>\n",
       "      <td>61</td>\n",
       "      <td>22</td>\n",
       "      <td>27</td>\n",
       "    </tr>\n",
       "    <tr>\n",
       "      <th>f</th>\n",
       "      <td>57</td>\n",
       "      <td>17</td>\n",
       "      <td>57</td>\n",
       "      <td>27</td>\n",
       "      <td>92</td>\n",
       "      <td>26</td>\n",
       "    </tr>\n",
       "    <tr>\n",
       "      <th>g</th>\n",
       "      <td>10</td>\n",
       "      <td>67</td>\n",
       "      <td>19</td>\n",
       "      <td>54</td>\n",
       "      <td>42</td>\n",
       "      <td>63</td>\n",
       "    </tr>\n",
       "    <tr>\n",
       "      <th>h</th>\n",
       "      <td>6</td>\n",
       "      <td>67</td>\n",
       "      <td>69</td>\n",
       "      <td>42</td>\n",
       "      <td>7</td>\n",
       "      <td>69</td>\n",
       "    </tr>\n",
       "  </tbody>\n",
       "</table>\n",
       "</div>"
      ],
      "text/plain": [
       "   duration  playtime  up  favorite  comment  share\n",
       "a        99        20  37        88       59     31\n",
       "b        60        11  87        47       19     20\n",
       "c        69        78  50        27        8     18\n",
       "d        41        74  35        57       39      9\n",
       "e        92        22  42        61       22     27\n",
       "f        57        17  57        27       92     26\n",
       "g        10        67  19        54       42     63\n",
       "h         6        67  69        42        7     69"
      ]
     },
     "execution_count": 4,
     "metadata": {},
     "output_type": "execute_result"
    }
   ],
   "source": [
    "df_dict = pd.DataFrame.from_dict(data_dict, orient='index') # dict -> df\n",
    "df_dict"
   ]
  },
  {
   "cell_type": "markdown",
   "metadata": {},
   "source": [
    "## csv文件"
   ]
  },
  {
   "cell_type": "code",
   "execution_count": 5,
   "metadata": {},
   "outputs": [],
   "source": [
    "df.to_csv('sample.csv') # 存储为csv文件"
   ]
  },
  {
   "cell_type": "code",
   "execution_count": 6,
   "metadata": {},
   "outputs": [
    {
     "data": {
      "text/plain": [
       "array([[99, 20, 37, 88, 59, 31],\n",
       "       [60, 11, 87, 47, 19, 20],\n",
       "       [69, 78, 50, 27,  8, 18],\n",
       "       [41, 74, 35, 57, 39,  9],\n",
       "       [92, 22, 42, 61, 22, 27],\n",
       "       [57, 17, 57, 27, 92, 26],\n",
       "       [10, 67, 19, 54, 42, 63],\n",
       "       [ 6, 67, 69, 42,  7, 69]])"
      ]
     },
     "execution_count": 6,
     "metadata": {},
     "output_type": "execute_result"
    }
   ],
   "source": [
    "df_csv = pd.read_csv('sample.csv', index_col=0) # 需要指定index_col=0\n",
    "df_csv.values"
   ]
  },
  {
   "cell_type": "markdown",
   "metadata": {},
   "source": [
    "## excel文件"
   ]
  },
  {
   "cell_type": "code",
   "execution_count": 7,
   "metadata": {},
   "outputs": [
    {
     "name": "stderr",
     "output_type": "stream",
     "text": [
      "<ipython-input-7-8bc2f48c3f48>:1: UserWarning: Pandas requires version '1.4.3' or newer of 'xlsxwriter' (version '1.2.9' currently installed).\n",
      "  df.to_excel('sample.xlsx')\n"
     ]
    }
   ],
   "source": [
    "df.to_excel('sample.xlsx')"
   ]
  },
  {
   "cell_type": "code",
   "execution_count": 8,
   "metadata": {},
   "outputs": [
    {
     "data": {
      "text/html": [
       "<div>\n",
       "<style scoped>\n",
       "    .dataframe tbody tr th:only-of-type {\n",
       "        vertical-align: middle;\n",
       "    }\n",
       "\n",
       "    .dataframe tbody tr th {\n",
       "        vertical-align: top;\n",
       "    }\n",
       "\n",
       "    .dataframe thead th {\n",
       "        text-align: right;\n",
       "    }\n",
       "</style>\n",
       "<table border=\"1\" class=\"dataframe\">\n",
       "  <thead>\n",
       "    <tr style=\"text-align: right;\">\n",
       "      <th></th>\n",
       "      <th>Unnamed: 0</th>\n",
       "      <th>duration</th>\n",
       "      <th>playtime</th>\n",
       "      <th>up</th>\n",
       "      <th>favorite</th>\n",
       "      <th>comment</th>\n",
       "      <th>share</th>\n",
       "    </tr>\n",
       "  </thead>\n",
       "  <tbody>\n",
       "    <tr>\n",
       "      <th>0</th>\n",
       "      <td>a</td>\n",
       "      <td>99</td>\n",
       "      <td>20</td>\n",
       "      <td>37</td>\n",
       "      <td>88</td>\n",
       "      <td>59</td>\n",
       "      <td>31</td>\n",
       "    </tr>\n",
       "    <tr>\n",
       "      <th>1</th>\n",
       "      <td>b</td>\n",
       "      <td>60</td>\n",
       "      <td>11</td>\n",
       "      <td>87</td>\n",
       "      <td>47</td>\n",
       "      <td>19</td>\n",
       "      <td>20</td>\n",
       "    </tr>\n",
       "    <tr>\n",
       "      <th>2</th>\n",
       "      <td>c</td>\n",
       "      <td>69</td>\n",
       "      <td>78</td>\n",
       "      <td>50</td>\n",
       "      <td>27</td>\n",
       "      <td>8</td>\n",
       "      <td>18</td>\n",
       "    </tr>\n",
       "    <tr>\n",
       "      <th>3</th>\n",
       "      <td>d</td>\n",
       "      <td>41</td>\n",
       "      <td>74</td>\n",
       "      <td>35</td>\n",
       "      <td>57</td>\n",
       "      <td>39</td>\n",
       "      <td>9</td>\n",
       "    </tr>\n",
       "    <tr>\n",
       "      <th>4</th>\n",
       "      <td>e</td>\n",
       "      <td>92</td>\n",
       "      <td>22</td>\n",
       "      <td>42</td>\n",
       "      <td>61</td>\n",
       "      <td>22</td>\n",
       "      <td>27</td>\n",
       "    </tr>\n",
       "    <tr>\n",
       "      <th>5</th>\n",
       "      <td>f</td>\n",
       "      <td>57</td>\n",
       "      <td>17</td>\n",
       "      <td>57</td>\n",
       "      <td>27</td>\n",
       "      <td>92</td>\n",
       "      <td>26</td>\n",
       "    </tr>\n",
       "    <tr>\n",
       "      <th>6</th>\n",
       "      <td>g</td>\n",
       "      <td>10</td>\n",
       "      <td>67</td>\n",
       "      <td>19</td>\n",
       "      <td>54</td>\n",
       "      <td>42</td>\n",
       "      <td>63</td>\n",
       "    </tr>\n",
       "    <tr>\n",
       "      <th>7</th>\n",
       "      <td>h</td>\n",
       "      <td>6</td>\n",
       "      <td>67</td>\n",
       "      <td>69</td>\n",
       "      <td>42</td>\n",
       "      <td>7</td>\n",
       "      <td>69</td>\n",
       "    </tr>\n",
       "  </tbody>\n",
       "</table>\n",
       "</div>"
      ],
      "text/plain": [
       "  Unnamed: 0  duration  playtime  up  favorite  comment  share\n",
       "0          a        99        20  37        88       59     31\n",
       "1          b        60        11  87        47       19     20\n",
       "2          c        69        78  50        27        8     18\n",
       "3          d        41        74  35        57       39      9\n",
       "4          e        92        22  42        61       22     27\n",
       "5          f        57        17  57        27       92     26\n",
       "6          g        10        67  19        54       42     63\n",
       "7          h         6        67  69        42        7     69"
      ]
     },
     "execution_count": 8,
     "metadata": {},
     "output_type": "execute_result"
    }
   ],
   "source": [
    "df_excel = pd.read_excel('sample.xlsx') # 若不指定index_col=0，会多出一行'Unnamed: 0'\n",
    "df_excel"
   ]
  },
  {
   "cell_type": "code",
   "execution_count": null,
   "metadata": {},
   "outputs": [],
   "source": []
  }
 ],
 "metadata": {
  "kernelspec": {
   "display_name": "Python 3",
   "language": "python",
   "name": "python3"
  },
  "language_info": {
   "codemirror_mode": {
    "name": "ipython",
    "version": 3
   },
   "file_extension": ".py",
   "mimetype": "text/x-python",
   "name": "python",
   "nbconvert_exporter": "python",
   "pygments_lexer": "ipython3",
   "version": "3.8.3"
  }
 },
 "nbformat": 4,
 "nbformat_minor": 4
}